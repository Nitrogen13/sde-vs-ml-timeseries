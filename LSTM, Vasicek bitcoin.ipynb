{
 "cells": [
  {
   "cell_type": "code",
   "execution_count": 1,
   "metadata": {
    "pycharm": {
     "name": "#%%\n"
    }
   },
   "outputs": [],
   "source": [
    "import os\n",
    "import requests\n",
    "\n",
    "import numpy as np\n",
    "import pandas as pd\n",
    "\n",
    "from scipy import stats\n",
    "import matplotlib.pyplot as plt\n",
    "import statsmodels.api as sm\n",
    "from sklearn.metrics import mean_squared_error\n",
    "import torch.nn as nn\n",
    "import torch\n",
    "from torch.utils.data import DataLoader\n",
    "from torch.optim.lr_scheduler import MultiplicativeLR\n",
    "\n",
    "from OrnsteinUhlenbeck.n_standart_ou import VasicekModel, mle_ou"
   ]
  },
  {
   "cell_type": "code",
   "execution_count": 2,
   "metadata": {},
   "outputs": [
    {
     "data": {
      "text/plain": [
       "device(type='cuda')"
      ]
     },
     "execution_count": 2,
     "metadata": {},
     "output_type": "execute_result"
    }
   ],
   "source": [
    "device = torch.device('cuda' if torch.cuda.is_available() else 'cpu')\n",
    "device"
   ]
  },
  {
   "cell_type": "code",
   "execution_count": 3,
   "metadata": {},
   "outputs": [],
   "source": [
    "DATASETS_URL = 'https://storage.googleapis.com/3jane-articles/datasets/1-autocorrelation'\n",
    "\n",
    "\n",
    "def get_dataset(dataset, dataset_dir='datasets', force_download=False):\n",
    "    if not os.path.exists(dataset_dir):\n",
    "        os.mkdir(dataset_dir)\n",
    "    \n",
    "    dataset_path = os.path.join(dataset_dir, dataset)\n",
    "    \n",
    "    if force_download or not os.path.exists(dataset_path):\n",
    "        r = requests.get(f'{DATASETS_URL}/{dataset}')\n",
    "        r.raise_for_status()\n",
    "        with open(dataset_path, 'wb') as dest_file:\n",
    "            dest_file.write(r.content)\n",
    "    \n",
    "    return pd.read_hdf(dataset_path, key='table')"
   ]
  },
  {
   "cell_type": "code",
   "execution_count": 4,
   "metadata": {},
   "outputs": [
    {
     "data": {
      "text/html": [
       "<div>\n",
       "<style scoped>\n",
       "    .dataframe tbody tr th:only-of-type {\n",
       "        vertical-align: middle;\n",
       "    }\n",
       "\n",
       "    .dataframe tbody tr th {\n",
       "        vertical-align: top;\n",
       "    }\n",
       "\n",
       "    .dataframe thead th {\n",
       "        text-align: right;\n",
       "    }\n",
       "</style>\n",
       "<table border=\"1\" class=\"dataframe\">\n",
       "  <thead>\n",
       "    <tr style=\"text-align: right;\">\n",
       "      <th></th>\n",
       "      <th>open</th>\n",
       "      <th>high</th>\n",
       "      <th>low</th>\n",
       "      <th>close</th>\n",
       "      <th>volume</th>\n",
       "    </tr>\n",
       "    <tr>\n",
       "      <th>timestamp</th>\n",
       "      <th></th>\n",
       "      <th></th>\n",
       "      <th></th>\n",
       "      <th></th>\n",
       "      <th></th>\n",
       "    </tr>\n",
       "  </thead>\n",
       "  <tbody>\n",
       "    <tr>\n",
       "      <th>2014-07-01 00:00:00</th>\n",
       "      <td>642.26000</td>\n",
       "      <td>642.26</td>\n",
       "      <td>640.78</td>\n",
       "      <td>641.01</td>\n",
       "      <td>0.218858</td>\n",
       "    </tr>\n",
       "    <tr>\n",
       "      <th>2014-07-01 00:01:00</th>\n",
       "      <td>642.23000</td>\n",
       "      <td>645.00</td>\n",
       "      <td>642.23</td>\n",
       "      <td>644.02</td>\n",
       "      <td>6.470715</td>\n",
       "    </tr>\n",
       "    <tr>\n",
       "      <th>2014-07-01 00:02:00</th>\n",
       "      <td>644.02000</td>\n",
       "      <td>648.15</td>\n",
       "      <td>644.02</td>\n",
       "      <td>648.15</td>\n",
       "      <td>108.660210</td>\n",
       "    </tr>\n",
       "    <tr>\n",
       "      <th>2014-07-01 00:03:00</th>\n",
       "      <td>646.95000</td>\n",
       "      <td>649.99</td>\n",
       "      <td>646.00</td>\n",
       "      <td>648.69</td>\n",
       "      <td>341.165312</td>\n",
       "    </tr>\n",
       "    <tr>\n",
       "      <th>2014-07-01 00:04:00</th>\n",
       "      <td>648.76000</td>\n",
       "      <td>648.76</td>\n",
       "      <td>646.00</td>\n",
       "      <td>648.31</td>\n",
       "      <td>16.183607</td>\n",
       "    </tr>\n",
       "    <tr>\n",
       "      <th>...</th>\n",
       "      <td>...</td>\n",
       "      <td>...</td>\n",
       "      <td>...</td>\n",
       "      <td>...</td>\n",
       "      <td>...</td>\n",
       "    </tr>\n",
       "    <tr>\n",
       "      <th>2019-06-30 23:55:00</th>\n",
       "      <td>10707.00000</td>\n",
       "      <td>10767.00</td>\n",
       "      <td>10668.00</td>\n",
       "      <td>10746.00</td>\n",
       "      <td>132.364633</td>\n",
       "    </tr>\n",
       "    <tr>\n",
       "      <th>2019-06-30 23:56:00</th>\n",
       "      <td>10745.00000</td>\n",
       "      <td>10769.00</td>\n",
       "      <td>10701.00</td>\n",
       "      <td>10701.00</td>\n",
       "      <td>23.433025</td>\n",
       "    </tr>\n",
       "    <tr>\n",
       "      <th>2019-06-30 23:57:00</th>\n",
       "      <td>10706.00000</td>\n",
       "      <td>10759.00</td>\n",
       "      <td>10705.00</td>\n",
       "      <td>10748.00</td>\n",
       "      <td>16.022461</td>\n",
       "    </tr>\n",
       "    <tr>\n",
       "      <th>2019-06-30 23:58:00</th>\n",
       "      <td>10747.05227</td>\n",
       "      <td>10770.00</td>\n",
       "      <td>10745.00</td>\n",
       "      <td>10745.00</td>\n",
       "      <td>10.246365</td>\n",
       "    </tr>\n",
       "    <tr>\n",
       "      <th>2019-06-30 23:59:00</th>\n",
       "      <td>10746.00000</td>\n",
       "      <td>10805.00</td>\n",
       "      <td>10729.00</td>\n",
       "      <td>10805.00</td>\n",
       "      <td>20.362214</td>\n",
       "    </tr>\n",
       "  </tbody>\n",
       "</table>\n",
       "<p>2143696 rows × 5 columns</p>\n",
       "</div>"
      ],
      "text/plain": [
       "                            open      high       low     close      volume\n",
       "timestamp                                                                 \n",
       "2014-07-01 00:00:00    642.26000    642.26    640.78    641.01    0.218858\n",
       "2014-07-01 00:01:00    642.23000    645.00    642.23    644.02    6.470715\n",
       "2014-07-01 00:02:00    644.02000    648.15    644.02    648.15  108.660210\n",
       "2014-07-01 00:03:00    646.95000    649.99    646.00    648.69  341.165312\n",
       "2014-07-01 00:04:00    648.76000    648.76    646.00    648.31   16.183607\n",
       "...                          ...       ...       ...       ...         ...\n",
       "2019-06-30 23:55:00  10707.00000  10767.00  10668.00  10746.00  132.364633\n",
       "2019-06-30 23:56:00  10745.00000  10769.00  10701.00  10701.00   23.433025\n",
       "2019-06-30 23:57:00  10706.00000  10759.00  10705.00  10748.00   16.022461\n",
       "2019-06-30 23:58:00  10747.05227  10770.00  10745.00  10745.00   10.246365\n",
       "2019-06-30 23:59:00  10746.00000  10805.00  10729.00  10805.00   20.362214\n",
       "\n",
       "[2143696 rows x 5 columns]"
      ]
     },
     "execution_count": 4,
     "metadata": {},
     "output_type": "execute_result"
    }
   ],
   "source": [
    "raw_data = get_dataset('BTC_USD_bitfinex_1m.hdf')\n",
    "raw_data"
   ]
  },
  {
   "cell_type": "code",
   "execution_count": 5,
   "metadata": {},
   "outputs": [
    {
     "data": {
      "text/plain": [
       "array([  641.01,   644.02,   648.15, ..., 10748.  , 10745.  , 10805.  ])"
      ]
     },
     "execution_count": 5,
     "metadata": {},
     "output_type": "execute_result"
    }
   ],
   "source": [
    "x = raw_data['close'].values\n",
    "x"
   ]
  },
  {
   "cell_type": "code",
   "execution_count": 6,
   "metadata": {},
   "outputs": [],
   "source": [
    "dt = 1  # minute in days\n",
    "t = np.arange(0, len(x), dt)"
   ]
  },
  {
   "cell_type": "code",
   "execution_count": 7,
   "metadata": {
    "pycharm": {
     "name": "#%%\n"
    }
   },
   "outputs": [
    {
     "data": {
      "text/plain": [
       "[<matplotlib.lines.Line2D at 0x7f10792ebfd0>]"
      ]
     },
     "execution_count": 7,
     "metadata": {},
     "output_type": "execute_result"
    },
    {
     "data": {
      "image/png": "[encoded data removed]",
      "text/plain": [
       "<Figure size 432x288 with 1 Axes>"
      ]
     },
     "metadata": {
      "needs_background": "light"
     },
     "output_type": "display_data"
    }
   ],
   "source": [
    "plt.xlabel(\"t\")\n",
    "plt.ylabel(\"S\")\n",
    "plt.plot(t, x, color=\"black\")"
   ]
  },
  {
   "cell_type": "code",
   "execution_count": 8,
   "metadata": {},
   "outputs": [],
   "source": [
    "train_size = int(len(x) * 0.80)\n",
    "\n",
    "#LSTM preprocess\n",
    "X = [[v] for v in x]\n",
    "\n",
    "# Vasicek preprocess\n",
    "v_train, v_test = list(x[:train_size]), x[train_size:]"
   ]
  },
  {
   "cell_type": "markdown",
   "metadata": {},
   "source": [
    "# Prev value prediction baseline"
   ]
  },
  {
   "cell_type": "code",
   "execution_count": 9,
   "metadata": {},
   "outputs": [
    {
     "name": "stdout",
     "output_type": "stream",
     "text": [
      "Test MSE: 44.834829\n"
     ]
    },
    {
     "data": {
      "image/png": "[encoded data removed]",
      "text/plain": [
       "<Figure size 432x288 with 1 Axes>"
      ]
     },
     "metadata": {
      "needs_background": "light"
     },
     "output_type": "display_data"
    }
   ],
   "source": [
    "predictions = [v_train[-1]]\n",
    "predictions.extend(v_test[:-1])\n",
    "    \n",
    "error = mean_squared_error(v_test, predictions)\n",
    "print('Test MSE: %.6f' % error)\n",
    "\n",
    "# plot\n",
    "plt.plot(v_test)\n",
    "plt.plot(predictions, color='red')\n",
    "plt.show()"
   ]
  },
  {
   "cell_type": "markdown",
   "metadata": {},
   "source": [
    "# Vasicek"
   ]
  },
  {
   "cell_type": "code",
   "execution_count": 10,
   "metadata": {
    "pycharm": {
     "name": "#%%\n"
    }
   },
   "outputs": [
    {
     "name": "stdout",
     "output_type": "stream",
     "text": [
      "{'kappa': 2.826470504202483e-06, 'theta': 3064.1591925825423, 'sigma': 9.575169221814054}\n"
     ]
    }
   ],
   "source": [
    "result = mle_ou(t[:train_size], v_train)\n",
    "kappa = result.params[\"kappa\"].value\n",
    "theta = result.params[\"theta\"].value\n",
    "sigma = result.params[\"sigma\"].value\n",
    "q_predicted = {\"kappa\": kappa, \"theta\": theta, \"sigma\": sigma}\n",
    "print(q_predicted)"
   ]
  },
  {
   "cell_type": "code",
   "execution_count": 11,
   "metadata": {},
   "outputs": [],
   "source": [
    "def predict(s_t, kappa, theta, sigma):\n",
    "    return s_t + kappa * (theta - s_t) * dt + sigma * np.sqrt(dt) * np.random.normal()"
   ]
  },
  {
   "cell_type": "code",
   "execution_count": 12,
   "metadata": {},
   "outputs": [
    {
     "data": {
      "text/plain": [
       "7021.0"
      ]
     },
     "execution_count": 12,
     "metadata": {},
     "output_type": "execute_result"
    }
   ],
   "source": [
    "v_train[-1]"
   ]
  },
  {
   "cell_type": "code",
   "execution_count": 13,
   "metadata": {},
   "outputs": [
    {
     "data": {
      "text/plain": [
       "7025.744938176121"
      ]
     },
     "execution_count": 13,
     "metadata": {},
     "output_type": "execute_result"
    }
   ],
   "source": [
    "predict(v_train[-1], **q_predicted)"
   ]
  },
  {
   "cell_type": "code",
   "execution_count": 14,
   "metadata": {},
   "outputs": [
    {
     "data": {
      "text/plain": [
       "7018.6"
      ]
     },
     "execution_count": 14,
     "metadata": {},
     "output_type": "execute_result"
    }
   ],
   "source": [
    "v_test[0]"
   ]
  },
  {
   "cell_type": "code",
   "execution_count": 15,
   "metadata": {},
   "outputs": [
    {
     "name": "stdout",
     "output_type": "stream",
     "text": [
      "Test MSE: 136.682907\n"
     ]
    },
    {
     "data": {
      "image/png": "[encoded data removed]",
      "text/plain": [
       "<Figure size 432x288 with 1 Axes>"
      ]
     },
     "metadata": {
      "needs_background": "light"
     },
     "output_type": "display_data"
    }
   ],
   "source": [
    "predictions = [predict(v_train[-1], **q_predicted)]\n",
    "\n",
    "for s in v_test[:-1]:\n",
    "    predictions.append(predict(s, **q_predicted))\n",
    "    \n",
    "error = mean_squared_error(v_test, predictions)\n",
    "print('Test MSE: %.6f' % error)\n",
    "\n",
    "# plot\n",
    "plt.plot(v_test)\n",
    "plt.plot(predictions, color='red')\n",
    "plt.show()"
   ]
  },
  {
   "cell_type": "markdown",
   "metadata": {},
   "source": [
    "# LSTM"
   ]
  },
  {
   "cell_type": "code",
   "execution_count": 16,
   "metadata": {},
   "outputs": [],
   "source": [
    "class LSTM(nn.Module):\n",
    "\n",
    "    def __init__(self, num_classes, input_size, hidden_size):\n",
    "        super(LSTM, self).__init__()\n",
    "        \n",
    "        self.num_classes = num_classes\n",
    "        self.input_size = input_size\n",
    "        self.hidden_size = hidden_size\n",
    "        self.seq_length = seq_length\n",
    "        \n",
    "        self.lstm_1 = nn.LSTM(input_size=input_size, hidden_size=hidden_size,\n",
    "                              batch_first=True)\n",
    "        self.lstm_2 = nn.LSTM(input_size=hidden_size, hidden_size=hidden_size,\n",
    "                              batch_first=True)\n",
    "        self.lstm_3 = nn.LSTM(input_size=hidden_size, hidden_size=hidden_size,\n",
    "                              batch_first=True)\n",
    "        \n",
    "        self.relu = nn.ReLU()\n",
    "        \n",
    "        self.fc = nn.Linear(hidden_size, 1)\n",
    "\n",
    "    def forward(self, x):\n",
    "        h_0 = torch.zeros(1, x.size(0), self.hidden_size).to(device)\n",
    "        c_0 = torch.zeros(1, x.size(0), self.hidden_size).to(device)\n",
    "        \n",
    "        output, (hn, cn) = self.lstm_1(x, (h_0, c_0))\n",
    "        output, (hn, cn) = self.lstm_2(output, (hn, cn))\n",
    "        output, (hn, cn) = self.lstm_3(output, (hn, cn))\n",
    "        hn = hn.view(-1, self.hidden_size)\n",
    "        \n",
    "        out = self.relu(hn)\n",
    "        out = self.fc(out)\n",
    "        \n",
    "        return out"
   ]
  },
  {
   "cell_type": "code",
   "execution_count": 17,
   "metadata": {},
   "outputs": [],
   "source": [
    "def sliding_windows(data, seq_length):\n",
    "    x = []\n",
    "    y = []\n",
    "\n",
    "    for i in range(len(data)-seq_length-1):\n",
    "        _x = data[i:(i+seq_length)]\n",
    "        _y = data[i+seq_length]\n",
    "        x.append(_x)\n",
    "        y.append(_y)\n",
    "\n",
    "    return np.array(x), np.array(y)"
   ]
  },
  {
   "cell_type": "code",
   "execution_count": 18,
   "metadata": {},
   "outputs": [],
   "source": [
    "seq_length = 50\n",
    "\n",
    "lstm_x, lstm_y = sliding_windows(X, seq_length)\n",
    "\n",
    "test_size = len(lstm_y) - train_size\n",
    "\n",
    "trainX = torch.Tensor(np.array(lstm_x[0:train_size]))\n",
    "trainY = torch.Tensor(np.array(lstm_y[0:train_size]))\n",
    "\n",
    "testX = torch.Tensor(np.array(lstm_x[train_size:len(lstm_x)]))\n",
    "testY = torch.Tensor(np.array(lstm_y[train_size:len(lstm_y)]))"
   ]
  },
  {
   "cell_type": "code",
   "execution_count": 19,
   "metadata": {},
   "outputs": [],
   "source": [
    "dataloaderX = DataLoader(trainX, batch_size=25000, shuffle=False)\n",
    "dataloaderY = DataLoader(trainY, batch_size=25000, shuffle=False)\n",
    "test_dataloaderX = DataLoader(testX, batch_size=25000, shuffle=False)\n",
    "test_dataloaderY = DataLoader(testY, batch_size=25000, shuffle=False)"
   ]
  },
  {
   "cell_type": "code",
   "execution_count": null,
   "metadata": {},
   "outputs": [
    {
     "name": "stdout",
     "output_type": "stream",
     "text": [
      "Epoch: 0, Batch: 68 loss: 43796684.0\n",
      "Epoch: 1, Batch: 68 loss: 43682528.0\n",
      "Epoch: 2, Batch: 68 loss: 43573128.0\n",
      "Epoch: 3, Batch: 68 loss: 43466064.0\n",
      "Epoch: 4, Batch: 68 loss: 43360648.0\n",
      "Epoch: 5, Batch: 68 loss: 43256560.0\n",
      "Epoch: 6, Batch: 68 loss: 43153636.0\n",
      "Epoch: 7, Batch: 68 loss: 43051788.0\n",
      "Epoch: 8, Batch: 68 loss: 42950924.0\n",
      "Epoch: 9, Batch: 68 loss: 42851008.0\n",
      "Epoch: 10, Batch: 68 loss: 42752004.0\n",
      "Epoch: 11, Batch: 68 loss: 42653884.0\n",
      "Epoch: 12, Batch: 68 loss: 42556628.0\n",
      "Epoch: 13, Batch: 68 loss: 42460204.0\n",
      "Epoch: 14, Batch: 68 loss: 42364596.0\n",
      "Epoch: 15, Batch: 68 loss: 42269788.0\n",
      "Epoch: 16, Batch: 68 loss: 42175772.0\n",
      "Epoch: 17, Batch: 68 loss: 42082532.0\n",
      "Epoch: 18, Batch: 68 loss: 41990048.0\n",
      "Epoch: 19, Batch: 68 loss: 41898324.0\n",
      "Epoch: 20, Batch: 68 loss: 41807336.0\n",
      "Epoch: 21, Batch: 68 loss: 41717084.0\n",
      "Epoch: 22, Batch: 68 loss: 41627552.0\n",
      "Epoch: 23, Batch: 68 loss: 41538728.0\n",
      "Epoch: 24, Batch: 68 loss: 41450600.0\n",
      "Epoch: 25, Batch: 68 loss: 41363180.0\n",
      "Epoch: 26, Batch: 68 loss: 41276440.0\n",
      "Epoch: 27, Batch: 68 loss: 41190376.0\n",
      "Epoch: 28, Batch: 68 loss: 41104980.0\n",
      "Epoch: 29, Batch: 68 loss: 41020252.0\n",
      "Epoch: 30, Batch: 68 loss: 40936176.0\n",
      "Epoch: 31, Batch: 68 loss: 40852756.0\n",
      "Epoch: 32, Batch: 68 loss: 40769964.0\n",
      "Epoch: 33, Batch: 68 loss: 40687816.0\n",
      "Epoch: 34, Batch: 68 loss: 40606292.0\n",
      "Epoch: 35, Batch: 68 loss: 40525392.0\n",
      "Epoch: 36, Batch: 68 loss: 40445100.0\n",
      "Epoch: 37, Batch: 68 loss: 40365428.0\n",
      "Epoch: 38, Batch: 68 loss: 40286340.0\n",
      "Epoch: 39, Batch: 68 loss: 40207860.0\n",
      "Epoch: 40, Batch: 68 loss: 40129968.0\n",
      "Epoch: 41, Batch: 68 loss: 40052664.0\n",
      "Epoch: 42, Batch: 68 loss: 39975932.0\n",
      "Epoch: 43, Batch: 68 loss: 39899772.0\n",
      "Epoch: 44, Batch: 68 loss: 39824180.0\n",
      "Epoch: 45, Batch: 68 loss: 39749152.0\n",
      "Epoch: 46, Batch: 68 loss: 39674688.0\n",
      "Epoch: 47, Batch: 68 loss: 39600764.0\n",
      "Epoch: 48, Batch: 68 loss: 39527396.0\n",
      "Epoch: 49, Batch: 68 loss: 39454564.0\n",
      "Epoch: 50, Batch: 68 loss: 39382264.0\n",
      "Epoch: 51, Batch: 68 loss: 39310496.0\n",
      "Epoch: 52, Batch: 68 loss: 39239264.0\n",
      "Epoch: 53, Batch: 68 loss: 39168544.0\n",
      "Epoch: 54, Batch: 68 loss: 39098352.0\n",
      "Epoch: 55, Batch: 68 loss: 39028660.0\n",
      "Epoch: 56, Batch: 68 loss: 38959476.0\n",
      "Epoch: 57, Batch: 68 loss: 38890804.0\n",
      "Epoch: 58, Batch: 68 loss: 38822624.0\n",
      "Epoch: 59, Batch: 68 loss: 38754936.0\n",
      "Epoch: 60, Batch: 68 loss: 38687740.0\n",
      "Epoch: 61, Batch: 68 loss: 38621028.0\n",
      "Epoch: 62, Batch: 68 loss: 38554796.0\n",
      "Epoch: 63, Batch: 68 loss: 38489048.0\n",
      "Epoch: 64, Batch: 68 loss: 38423764.0\n",
      "Epoch: 65, Batch: 68 loss: 38358952.0\n",
      "Epoch: 66, Batch: 68 loss: 38294600.0\n",
      "Epoch: 67, Batch: 68 loss: 38230720.0\n",
      "Epoch: 68, Batch: 68 loss: 38167288.0\n",
      "Epoch: 69, Batch: 68 loss: 38104304.0\n",
      "Epoch: 70, Batch: 68 loss: 38041772.0\n",
      "Epoch: 71, Batch: 68 loss: 37979688.0\n",
      "Epoch: 72, Batch: 68 loss: 37918044.0\n",
      "Epoch: 73, Batch: 68 loss: 37856840.0\n",
      "Epoch: 74, Batch: 68 loss: 37796068.0\n",
      "Epoch: 75, Batch: 68 loss: 37735716.0\n",
      "Epoch: 76, Batch: 68 loss: 37675804.0\n",
      "Epoch: 77, Batch: 68 loss: 37616304.0\n",
      "Epoch: 78, Batch: 68 loss: 37557228.0\n",
      "Epoch: 79, Batch: 68 loss: 37498568.0\n",
      "Epoch: 80, Batch: 68 loss: 37440320.0\n",
      "Epoch: 81, Batch: 68 loss: 37382476.0\n",
      "Epoch: 82, Batch: 68 loss: 37325048.0\n",
      "Epoch: 83, Batch: 68 loss: 37268016.0\n",
      "Epoch: 84, Batch: 68 loss: 37211380.0\n",
      "Epoch: 85, Batch: 68 loss: 37155144.0\n",
      "Epoch: 86, Batch: 68 loss: 37099300.0\n",
      "Epoch: 87, Batch: 68 loss: 37043844.0\n",
      "Epoch: 88, Batch: 68 loss: 36988780.0\n",
      "Epoch: 89, Batch: 68 loss: 36934084.0\n",
      "Epoch: 90, Batch: 68 loss: 36879780.0\n",
      "Epoch: 91, Batch: 68 loss: 36825852.0\n",
      "Epoch: 92, Batch: 68 loss: 36772292.0\n",
      "Epoch: 93, Batch: 68 loss: 36719104.0\n",
      "Epoch: 94, Batch: 68 loss: 36666280.0\n",
      "Epoch: 95, Batch: 68 loss: 36613824.0\n",
      "Epoch: 96, Batch: 68 loss: 36561736.0\n",
      "Epoch: 97, Batch: 68 loss: 36509996.0\n",
      "Epoch: 98, Batch: 68 loss: 36458624.0\n",
      "Epoch: 99, Batch: 68 loss: 36407592.0\n",
      "Epoch: 100, Batch: 68 loss: 36356916.0\n",
      "Epoch: 101, Batch: 68 loss: 36306588.0\n",
      "Epoch: 102, Batch: 68 loss: 36256604.0\n",
      "Epoch: 103, Batch: 68 loss: 36206956.0\n",
      "Epoch: 104, Batch: 68 loss: 36157656.0\n",
      "Epoch: 105, Batch: 68 loss: 36108684.0\n",
      "Epoch: 106, Batch: 68 loss: 36060048.0\n",
      "Epoch: 107, Batch: 68 loss: 36011744.0\n",
      "Epoch: 108, Batch: 68 loss: 35963760.0\n",
      "Epoch: 109, Batch: 68 loss: 35916116.0\n",
      "Epoch: 110, Batch: 68 loss: 35868788.0\n",
      "Epoch: 111, Batch: 68 loss: 35821780.0\n",
      "Epoch: 112, Batch: 68 loss: 35775092.0\n",
      "Epoch: 113, Batch: 68 loss: 35728720.0\n",
      "Epoch: 114, Batch: 68 loss: 35682664.0\n",
      "Epoch: 115, Batch: 68 loss: 35636920.0\n",
      "Epoch: 116, Batch: 68 loss: 35591476.0\n",
      "Epoch: 117, Batch: 68 loss: 35546340.0\n",
      "Epoch: 118, Batch: 68 loss: 35501512.0\n",
      "Epoch: 119, Batch: 68 loss: 35456980.0\n",
      "Epoch: 120, Batch: 68 loss: 35412748.0\n",
      "Epoch: 121, Batch: 68 loss: 35368812.0\n",
      "Epoch: 122, Batch: 68 loss: 35325168.0\n",
      "Epoch: 123, Batch: 68 loss: 35281820.0\n",
      "Epoch: 124, Batch: 68 loss: 35238764.0\n",
      "Epoch: 125, Batch: 68 loss: 35195984.0\n",
      "Epoch: 126, Batch: 68 loss: 35153496.0\n",
      "Epoch: 127, Batch: 68 loss: 35111292.0\n",
      "Epoch: 128, Batch: 68 loss: 35069364.0\n",
      "Epoch: 129, Batch: 68 loss: 35027712.0\n",
      "Epoch: 130, Batch: 68 loss: 34986344.0\n",
      "Epoch: 131, Batch: 68 loss: 34945244.0\n",
      "Epoch: 132, Batch: 68 loss: 34904420.0\n",
      "Epoch: 133, Batch: 68 loss: 34863864.0\n",
      "Epoch: 134, Batch: 68 loss: 34823576.0\n",
      "Epoch: 135, Batch: 68 loss: 34783548.0\n",
      "Epoch: 136, Batch: 68 loss: 34743796.0\n",
      "Epoch: 137, Batch: 68 loss: 34704296.0\n",
      "Epoch: 138, Batch: 68 loss: 34665064.0\n",
      "Epoch: 139, Batch: 68 loss: 34626084.0\n",
      "Epoch: 140, Batch: 68 loss: 34587364.0\n",
      "Epoch: 141, Batch: 68 loss: 34548900.0\n",
      "Epoch: 142, Batch: 68 loss: 34510684.0\n",
      "Epoch: 143, Batch: 68 loss: 34472716.0\n",
      "Epoch: 144, Batch: 68 loss: 34435000.0\n",
      "Epoch: 145, Batch: 68 loss: 34397528.0\n",
      "Epoch: 146, Batch: 68 loss: 34360304.0\n",
      "Epoch: 147, Batch: 68 loss: 34323320.0\n",
      "Epoch: 148, Batch: 68 loss: 34286572.0\n",
      "Epoch: 149, Batch: 68 loss: 34250068.0\n",
      "Epoch: 150, Batch: 68 loss: 34213796.0\n",
      "Epoch: 151, Batch: 68 loss: 34177768.0\n",
      "Epoch: 152, Batch: 68 loss: 34141972.0\n",
      "Epoch: 153, Batch: 68 loss: 34106408.0\n",
      "Epoch: 154, Batch: 68 loss: 34071068.0\n",
      "Epoch: 155, Batch: 68 loss: 34035960.0\n",
      "Epoch: 156, Batch: 68 loss: 34001080.0\n",
      "Epoch: 157, Batch: 68 loss: 33966424.0\n",
      "Epoch: 158, Batch: 68 loss: 33931992.0\n",
      "Epoch: 159, Batch: 68 loss: 33897784.0\n",
      "Epoch: 160, Batch: 68 loss: 33863792.0\n",
      "Epoch: 161, Batch: 68 loss: 33830024.0\n",
      "Epoch: 162, Batch: 68 loss: 33796468.0\n",
      "Epoch: 163, Batch: 68 loss: 33763124.0\n",
      "Epoch: 164, Batch: 68 loss: 33730004.0\n",
      "Epoch: 165, Batch: 68 loss: 33697084.0\n",
      "Epoch: 166, Batch: 68 loss: 33664380.0\n",
      "Epoch: 167, Batch: 68 loss: 33631888.0\n",
      "Epoch: 168, Batch: 68 loss: 33599604.0\n",
      "Epoch: 169, Batch: 68 loss: 33567516.0\n",
      "Epoch: 170, Batch: 68 loss: 33535640.0\n",
      "Epoch: 171, Batch: 68 loss: 33503964.0\n",
      "Epoch: 172, Batch: 68 loss: 33472490.0\n",
      "Epoch: 173, Batch: 68 loss: 33441220.0\n",
      "Epoch: 174, Batch: 68 loss: 33410144.0\n",
      "Epoch: 175, Batch: 68 loss: 33379262.0\n",
      "Epoch: 176, Batch: 68 loss: 33348582.0\n",
      "Epoch: 177, Batch: 68 loss: 33318092.0\n",
      "Epoch: 178, Batch: 68 loss: 33287800.0\n",
      "Epoch: 179, Batch: 68 loss: 33257688.0\n",
      "Epoch: 180, Batch: 68 loss: 33227778.0\n",
      "Epoch: 181, Batch: 68 loss: 33198052.0\n",
      "Epoch: 182, Batch: 68 loss: 33168512.0\n",
      "Epoch: 183, Batch: 68 loss: 33139158.0\n",
      "Epoch: 184, Batch: 68 loss: 33109992.0\n",
      "Epoch: 185, Batch: 68 loss: 33081006.0\n",
      "Epoch: 186, Batch: 68 loss: 33052208.0\n",
      "Epoch: 187, Batch: 68 loss: 33023584.0\n",
      "Epoch: 188, Batch: 68 loss: 32995142.0\n",
      "Epoch: 189, Batch: 68 loss: 32966882.0\n",
      "Epoch: 190, Batch: 68 loss: 32938794.0\n",
      "Epoch: 191, Batch: 68 loss: 32910886.0\n",
      "Epoch: 192, Batch: 68 loss: 32883140.0\n",
      "Epoch: 193, Batch: 68 loss: 32855578.0\n",
      "Epoch: 194, Batch: 68 loss: 32828182.0\n",
      "Epoch: 195, Batch: 68 loss: 32800964.0\n",
      "Epoch: 196, Batch: 68 loss: 32773904.0\n",
      "Epoch: 197, Batch: 68 loss: 32747024.0\n",
      "Epoch: 198, Batch: 68 loss: 32720308.0\n",
      "Epoch: 199, Batch: 68 loss: 32693748.0\n",
      "Epoch: 200, Batch: 68 loss: 32667362.0\n",
      "Epoch: 201, Batch: 68 loss: 32641144.0\n",
      "Epoch: 202, Batch: 68 loss: 32615084.0\n",
      "Epoch: 203, Batch: 68 loss: 32589178.0\n",
      "Epoch: 204, Batch: 68 loss: 32563444.0\n",
      "Epoch: 205, Batch: 68 loss: 32537858.0\n",
      "Epoch: 206, Batch: 68 loss: 32512434.0\n",
      "Epoch: 207, Batch: 68 loss: 32487172.0\n",
      "Epoch: 208, Batch: 68 loss: 32462056.0\n",
      "Epoch: 209, Batch: 68 loss: 32437100.0\n",
      "Epoch: 210, Batch: 68 loss: 32412292.0\n",
      "Epoch: 211, Batch: 68 loss: 32387636.0\n",
      "Epoch: 212, Batch: 68 loss: 32363138.0\n"
     ]
    },
    {
     "name": "stdout",
     "output_type": "stream",
     "text": [
      "Epoch: 213, Batch: 68 loss: 32338786.0\n",
      "Epoch: 214, Batch: 68 loss: 32314586.0\n",
      "Epoch: 215, Batch: 68 loss: 32290534.0\n",
      "Epoch: 216, Batch: 68 loss: 32266620.0\n",
      "Epoch: 217, Batch: 68 loss: 32242862.0\n",
      "Epoch: 218, Batch: 68 loss: 32219246.0\n",
      "Epoch: 219, Batch: 68 loss: 32195774.0\n",
      "Epoch: 220, Batch: 68 loss: 32172450.0\n",
      "Epoch: 221, Batch: 68 loss: 32149260.0\n",
      "Epoch: 222, Batch: 68 loss: 32126216.0\n",
      "Epoch: 223, Batch: 68 loss: 32103306.0\n",
      "Epoch: 224, Batch: 68 loss: 32080542.0\n",
      "Epoch: 225, Batch: 68 loss: 32057914.0\n",
      "Epoch: 226, Batch: 68 loss: 32035420.0\n",
      "Epoch: 227, Batch: 68 loss: 32013066.0\n",
      "Epoch: 228, Batch: 68 loss: 31990846.0\n",
      "Epoch: 229, Batch: 68 loss: 31968758.0\n",
      "Epoch: 230, Batch: 68 loss: 31946814.0\n",
      "Epoch: 231, Batch: 68 loss: 31924994.0\n",
      "Epoch: 232, Batch: 68 loss: 31903298.0\n",
      "Epoch: 233, Batch: 68 loss: 31881746.0\n",
      "Epoch: 234, Batch: 68 loss: 31860320.0\n",
      "Epoch: 235, Batch: 68 loss: 31839020.0\n",
      "Epoch: 236, Batch: 68 loss: 31817854.0\n",
      "Epoch: 237, Batch: 68 loss: 31796806.0\n",
      "Epoch: 238, Batch: 68 loss: 31775896.0\n",
      "Epoch: 239, Batch: 68 loss: 31755106.0\n",
      "Epoch: 240, Batch: 68 loss: 31734438.0\n",
      "Epoch: 241, Batch: 68 loss: 31713894.0\n",
      "Epoch: 242, Batch: 68 loss: 31693470.0\n",
      "Epoch: 243, Batch: 68 loss: 31673178.0\n",
      "Epoch: 244, Batch: 68 loss: 31652998.0\n",
      "Epoch: 245, Batch: 68 loss: 31632940.0\n",
      "Epoch: 246, Batch: 68 loss: 31613004.0\n",
      "Epoch: 247, Batch: 68 loss: 31593190.0\n",
      "Epoch: 248, Batch: 68 loss: 31573488.0\n",
      "Epoch: 249, Batch: 68 loss: 31553908.0\n",
      "Epoch: 250, Batch: 68 loss: 31534442.0\n",
      "Epoch: 251, Batch: 68 loss: 31515094.0\n",
      "Epoch: 252, Batch: 68 loss: 31495858.0\n",
      "Epoch: 253, Batch: 68 loss: 31476736.0\n",
      "Epoch: 254, Batch: 68 loss: 31457732.0\n",
      "Epoch: 255, Batch: 68 loss: 31438830.0\n",
      "Epoch: 256, Batch: 68 loss: 31420052.0\n",
      "Epoch: 257, Batch: 68 loss: 31401376.0\n",
      "Epoch: 258, Batch: 68 loss: 31382816.0\n",
      "Epoch: 259, Batch: 68 loss: 31364366.0\n",
      "Epoch: 260, Batch: 68 loss: 31346024.0\n",
      "Epoch: 261, Batch: 68 loss: 31327786.0\n",
      "Epoch: 262, Batch: 68 loss: 31309664.0\n",
      "Epoch: 263, Batch: 68 loss: 31291644.0\n",
      "Epoch: 264, Batch: 68 loss: 31273730.0\n",
      "Epoch: 265, Batch: 68 loss: 31255926.0\n",
      "Epoch: 266, Batch: 68 loss: 31238220.0\n",
      "Epoch: 267, Batch: 68 loss: 31220618.0\n",
      "Epoch: 268, Batch: 68 loss: 31203122.0\n",
      "Epoch: 269, Batch: 68 loss: 31185732.0\n",
      "Epoch: 270, Batch: 68 loss: 31168444.0\n",
      "Epoch: 271, Batch: 68 loss: 31151252.0\n",
      "Epoch: 272, Batch: 68 loss: 31134164.0\n",
      "Epoch: 273, Batch: 68 loss: 31117178.0\n",
      "Epoch: 274, Batch: 68 loss: 31100286.0\n",
      "Epoch: 275, Batch: 68 loss: 31083496.0\n",
      "Epoch: 276, Batch: 68 loss: 31066806.0\n",
      "Epoch: 277, Batch: 68 loss: 31050210.0\n",
      "Epoch: 278, Batch: 68 loss: 31033712.0\n",
      "Epoch: 279, Batch: 68 loss: 31017304.0\n",
      "Epoch: 280, Batch: 68 loss: 31001004.0\n",
      "Epoch: 281, Batch: 68 loss: 30984786.0\n",
      "Epoch: 282, Batch: 68 loss: 30968672.0\n",
      "Epoch: 283, Batch: 68 loss: 30952646.0\n",
      "Epoch: 284, Batch: 68 loss: 30936712.0\n",
      "Epoch: 285, Batch: 68 loss: 30920876.0\n",
      "Epoch: 286, Batch: 68 loss: 30905128.0\n",
      "Epoch: 287, Batch: 68 loss: 30889476.0\n",
      "Epoch: 288, Batch: 68 loss: 30873910.0\n",
      "Epoch: 289, Batch: 68 loss: 30858438.0\n",
      "Epoch: 290, Batch: 68 loss: 30843054.0\n",
      "Epoch: 291, Batch: 68 loss: 30827756.0\n",
      "Epoch: 292, Batch: 68 loss: 30812550.0\n",
      "Epoch: 293, Batch: 68 loss: 30797434.0\n",
      "Epoch: 294, Batch: 68 loss: 30782398.0\n",
      "Epoch: 295, Batch: 68 loss: 30767452.0\n",
      "Epoch: 296, Batch: 68 loss: 30752598.0\n",
      "Epoch: 297, Batch: 68 loss: 30737826.0\n",
      "Epoch: 298, Batch: 68 loss: 30723134.0\n",
      "Epoch: 299, Batch: 68 loss: 30708524.0\n",
      "Epoch: 300, Batch: 68 loss: 30694002.0\n",
      "Epoch: 301, Batch: 68 loss: 30679562.0\n",
      "Epoch: 302, Batch: 68 loss: 30665210.0\n",
      "Epoch: 303, Batch: 68 loss: 30650936.0\n",
      "Epoch: 304, Batch: 68 loss: 30636752.0\n",
      "Epoch: 305, Batch: 68 loss: 30622638.0\n",
      "Epoch: 306, Batch: 68 loss: 30608610.0\n",
      "Epoch: 307, Batch: 68 loss: 30594664.0\n",
      "Epoch: 308, Batch: 68 loss: 30580796.0\n",
      "Epoch: 309, Batch: 68 loss: 30567010.0\n",
      "Epoch: 310, Batch: 68 loss: 30553302.0\n",
      "Epoch: 311, Batch: 68 loss: 30539672.0\n",
      "Epoch: 312, Batch: 68 loss: 30526114.0\n",
      "Epoch: 313, Batch: 68 loss: 30512640.0\n",
      "Epoch: 314, Batch: 68 loss: 30499240.0\n",
      "Epoch: 315, Batch: 68 loss: 30485914.0\n",
      "Epoch: 316, Batch: 68 loss: 30472668.0\n",
      "Epoch: 317, Batch: 68 loss: 30459490.0\n",
      "Epoch: 318, Batch: 68 loss: 30446400.0\n",
      "Epoch: 319, Batch: 68 loss: 30433378.0\n",
      "Epoch: 320, Batch: 68 loss: 30420430.0\n",
      "Epoch: 321, Batch: 68 loss: 30407560.0\n",
      "Epoch: 322, Batch: 68 loss: 30394756.0\n",
      "Epoch: 323, Batch: 68 loss: 30382028.0\n",
      "Epoch: 324, Batch: 68 loss: 30369368.0\n",
      "Epoch: 325, Batch: 68 loss: 30356782.0\n",
      "Epoch: 326, Batch: 68 loss: 30344268.0\n",
      "Epoch: 327, Batch: 68 loss: 30331826.0\n",
      "Epoch: 328, Batch: 68 loss: 30319452.0\n",
      "Epoch: 329, Batch: 68 loss: 30307140.0\n",
      "Epoch: 330, Batch: 68 loss: 30294912.0\n",
      "Epoch: 331, Batch: 68 loss: 30282750.0\n",
      "Epoch: 332, Batch: 68 loss: 30270654.0\n",
      "Epoch: 333, Batch: 68 loss: 30258626.0\n",
      "Epoch: 334, Batch: 68 loss: 30246666.0\n",
      "Epoch: 335, Batch: 68 loss: 30234772.0\n",
      "Epoch: 336, Batch: 68 loss: 30222950.0\n",
      "Epoch: 337, Batch: 68 loss: 30211192.0\n",
      "Epoch: 338, Batch: 68 loss: 30199498.0\n",
      "Epoch: 339, Batch: 68 loss: 30187878.0\n",
      "Epoch: 340, Batch: 68 loss: 30176314.0\n",
      "Epoch: 341, Batch: 68 loss: 30164816.0\n",
      "Epoch: 342, Batch: 68 loss: 30153388.0\n",
      "Epoch: 343, Batch: 68 loss: 30142016.0\n",
      "Epoch: 344, Batch: 68 loss: 30130714.0\n",
      "Epoch: 345, Batch: 68 loss: 30119476.0\n",
      "Epoch: 346, Batch: 68 loss: 30108298.0\n",
      "Epoch: 347, Batch: 68 loss: 30097180.0\n",
      "Epoch: 348, Batch: 68 loss: 30086134.0\n",
      "Epoch: 349, Batch: 68 loss: 30075140.0\n",
      "Epoch: 350, Batch: 68 loss: 30064210.0\n",
      "Epoch: 351, Batch: 68 loss: 30053334.0\n",
      "Epoch: 352, Batch: 68 loss: 30042530.0\n",
      "Epoch: 353, Batch: 68 loss: 30031780.0\n",
      "Epoch: 354, Batch: 68 loss: 30021092.0\n",
      "Epoch: 355, Batch: 68 loss: 30010464.0\n",
      "Epoch: 356, Batch: 68 loss: 29999894.0\n",
      "Epoch: 357, Batch: 68 loss: 29989380.0\n",
      "Epoch: 358, Batch: 68 loss: 29978930.0\n",
      "Epoch: 359, Batch: 68 loss: 29968536.0\n",
      "Epoch: 360, Batch: 68 loss: 29958196.0\n",
      "Epoch: 361, Batch: 68 loss: 29947922.0\n",
      "Epoch: 362, Batch: 68 loss: 29937704.0\n",
      "Epoch: 363, Batch: 68 loss: 29927538.0\n",
      "Epoch: 364, Batch: 68 loss: 29917432.0\n",
      "Epoch: 365, Batch: 68 loss: 29907378.0\n",
      "Epoch: 366, Batch: 68 loss: 29897378.0\n",
      "Epoch: 367, Batch: 68 loss: 29887442.0\n",
      "Epoch: 368, Batch: 68 loss: 29877554.0\n",
      "Epoch: 369, Batch: 68 loss: 29867724.0\n",
      "Epoch: 370, Batch: 68 loss: 29857950.0\n",
      "Epoch: 371, Batch: 68 loss: 29848230.0\n",
      "Epoch: 372, Batch: 68 loss: 29838560.0\n",
      "Epoch: 373, Batch: 68 loss: 29828942.0\n",
      "Epoch: 374, Batch: 68 loss: 29819384.0\n",
      "Epoch: 375, Batch: 68 loss: 29809876.0\n",
      "Epoch: 376, Batch: 68 loss: 29800418.0\n",
      "Epoch: 377, Batch: 68 loss: 29791012.0\n",
      "Epoch: 378, Batch: 68 loss: 29781660.0\n",
      "Epoch: 379, Batch: 68 loss: 29772358.0\n",
      "Epoch: 380, Batch: 68 loss: 29763108.0\n",
      "Epoch: 381, Batch: 68 loss: 29753910.0\n",
      "Epoch: 382, Batch: 68 loss: 29744758.0\n",
      "Epoch: 383, Batch: 68 loss: 29735658.0\n",
      "Epoch: 384, Batch: 68 loss: 29726614.0\n",
      "Epoch: 385, Batch: 68 loss: 29717614.0\n",
      "Epoch: 386, Batch: 68 loss: 29708668.0\n",
      "Epoch: 387, Batch: 68 loss: 29699766.0\n",
      "Epoch: 388, Batch: 68 loss: 29690920.0\n",
      "Epoch: 389, Batch: 68 loss: 29682114.0\n",
      "Epoch: 390, Batch: 68 loss: 29673358.0\n",
      "Epoch: 391, Batch: 68 loss: 29664656.0\n",
      "Epoch: 392, Batch: 68 loss: 29655996.0\n",
      "Epoch: 393, Batch: 68 loss: 29647390.0\n",
      "Epoch: 394, Batch: 68 loss: 29638830.0\n",
      "Epoch: 395, Batch: 68 loss: 29630316.0\n",
      "Epoch: 396, Batch: 68 loss: 29621842.0\n",
      "Epoch: 397, Batch: 68 loss: 29613418.0\n",
      "Epoch: 398, Batch: 68 loss: 29605038.0\n",
      "Epoch: 399, Batch: 68 loss: 29596710.0\n",
      "Epoch: 400, Batch: 68 loss: 29588422.0\n",
      "Epoch: 401, Batch: 68 loss: 29580182.0\n",
      "Epoch: 402, Batch: 68 loss: 29571980.0\n",
      "Epoch: 403, Batch: 68 loss: 29563830.0\n",
      "Epoch: 404, Batch: 68 loss: 29555724.0\n",
      "Epoch: 405, Batch: 68 loss: 29547662.0\n",
      "Epoch: 406, Batch: 68 loss: 29539640.0\n",
      "Epoch: 407, Batch: 68 loss: 29531668.0\n",
      "Epoch: 408, Batch: 68 loss: 29523734.0\n",
      "Epoch: 409, Batch: 68 loss: 29515844.0\n",
      "Epoch: 410, Batch: 68 loss: 29508000.0\n",
      "Epoch: 411, Batch: 68 loss: 29500194.0\n",
      "Epoch: 412, Batch: 68 loss: 29492436.0\n",
      "Epoch: 413, Batch: 68 loss: 29484716.0\n",
      "Epoch: 414, Batch: 68 loss: 29477038.0\n",
      "Epoch: 415, Batch: 68 loss: 29469404.0\n",
      "Epoch: 416, Batch: 68 loss: 29461808.0\n",
      "Epoch: 417, Batch: 68 loss: 29454258.0\n",
      "Epoch: 418, Batch: 68 loss: 29446750.0\n",
      "Epoch: 419, Batch: 68 loss: 29439274.0\n",
      "Epoch: 420, Batch: 68 loss: 29431844.0\n",
      "Epoch: 421, Batch: 68 loss: 29424454.0\n",
      "Epoch: 422, Batch: 68 loss: 29417110.0\n",
      "Epoch: 423, Batch: 68 loss: 29409796.0\n"
     ]
    },
    {
     "name": "stdout",
     "output_type": "stream",
     "text": [
      "Epoch: 424, Batch: 68 loss: 29402518.0\n",
      "Epoch: 425, Batch: 68 loss: 29395294.0\n",
      "Epoch: 426, Batch: 68 loss: 29388100.0\n",
      "Epoch: 427, Batch: 68 loss: 29380948.0\n",
      "Epoch: 428, Batch: 68 loss: 29373834.0\n",
      "Epoch: 429, Batch: 68 loss: 29366762.0\n",
      "Epoch: 430, Batch: 68 loss: 29359728.0\n",
      "Epoch: 431, Batch: 68 loss: 29352720.0\n",
      "Epoch: 432, Batch: 68 loss: 29345764.0\n",
      "Epoch: 433, Batch: 68 loss: 29338840.0\n",
      "Epoch: 434, Batch: 68 loss: 29331962.0\n",
      "Epoch: 435, Batch: 68 loss: 29325110.0\n",
      "Epoch: 436, Batch: 68 loss: 29318306.0\n",
      "Epoch: 437, Batch: 68 loss: 29311542.0\n",
      "Epoch: 438, Batch: 68 loss: 29304806.0\n",
      "Epoch: 439, Batch: 68 loss: 29298104.0\n",
      "Epoch: 440, Batch: 68 loss: 29291440.0\n",
      "Epoch: 441, Batch: 68 loss: 29284804.0\n",
      "Epoch: 442, Batch: 68 loss: 29278204.0\n",
      "Epoch: 443, Batch: 68 loss: 29271630.0\n",
      "Epoch: 444, Batch: 68 loss: 29265102.0\n",
      "Epoch: 445, Batch: 68 loss: 29258604.0\n",
      "Epoch: 446, Batch: 68 loss: 29252138.0\n",
      "Epoch: 447, Batch: 68 loss: 29245712.0\n",
      "Epoch: 448, Batch: 68 loss: 29239324.0\n",
      "Epoch: 449, Batch: 68 loss: 29232974.0\n",
      "Epoch: 450, Batch: 68 loss: 29226658.0\n",
      "Epoch: 451, Batch: 68 loss: 29220376.0\n"
     ]
    }
   ],
   "source": [
    "num_epochs = 1000\n",
    "learning_rate = 0.01\n",
    "\n",
    "input_size = 1\n",
    "hidden_size = 50\n",
    "num_classes = 1\n",
    "\n",
    "lstm = LSTM(num_classes, input_size, hidden_size).to(device)\n",
    "\n",
    "criterion = torch.nn.MSELoss()\n",
    "optimizer = torch.optim.Adam(lstm.parameters(), lr=learning_rate)\n",
    "scheduler = MultiplicativeLR(optimizer, lr_lambda=lambda epoch: 0.995) \n",
    "\n",
    "# Train the model\n",
    "for epoch in range(num_epochs):\n",
    "    for batch_ind, (x_batch, y_batch) in enumerate(zip(dataloaderX, dataloaderY)):\n",
    "        x_batch = x_batch.to(device)\n",
    "        y_batch = y_batch.to(device)\n",
    "        outputs = lstm(x_batch)\n",
    "        optimizer.zero_grad()\n",
    "        \n",
    "        # obtain the loss function\n",
    "        loss = criterion(outputs, y_batch)\n",
    "        loss.backward()\n",
    "        optimizer.step()\n",
    "    scheduler.step()\n",
    "        \n",
    "#         print(f\"Epoch: {epoch}, Batch: {batch_ind} loss: {loss.item()}\")\n",
    "    print(f\"Epoch: {epoch}, Batch: {batch_ind} loss: {loss.item()}\")"
   ]
  },
  {
   "cell_type": "code",
   "execution_count": null,
   "metadata": {},
   "outputs": [],
   "source": [
    "lstm.eval()\n",
    "\n",
    "testX = testX.to(device)\n",
    "\n",
    "error = 0\n",
    "predictions = []\n",
    "for batch_ind, (x_batch, y_batch) in enumerate(zip(test_dataloaderX, test_dataloaderY)):\n",
    "    x_batch = x_batch.to(device)\n",
    "\n",
    "    outputs = lstm(x_batch).cpu().detach().numpy()\n",
    "    \n",
    "    predictions.extend(outputs)\n",
    "    error += mean_squared_error(y_batch, outputs)\n",
    "    \n",
    "print('Test MSE: %.6f' % error)\n",
    "\n",
    "\n",
    "plt.plot(testY)\n",
    "plt.plot(predictions, color='red')\n",
    "plt.suptitle('Time-Series Prediction')\n",
    "plt.show()"
   ]
  },
  {
   "cell_type": "code",
   "execution_count": null,
   "metadata": {},
   "outputs": [],
   "source": []
  }
 ],
 "metadata": {
  "kernelspec": {
   "display_name": "PyCharm (Thesis)",
   "language": "python",
   "name": "pycharm-4eba247a"
  },
  "language_info": {
   "codemirror_mode": {
    "name": "ipython",
    "version": 3
   },
   "file_extension": ".py",
   "mimetype": "text/x-python",
   "name": "python",
   "nbconvert_exporter": "python",
   "pygments_lexer": "ipython3",
   "version": "3.7.7"
  }
 },
 "nbformat": 4,
 "nbformat_minor": 4
}